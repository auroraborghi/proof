{
 "cells": [
  {
   "cell_type": "code",
   "execution_count": 53,
   "id": "87bc4982-b93b-447f-9bf1-90986a925751",
   "metadata": {},
   "outputs": [],
   "source": [
    "import csv\n",
    "import json\n",
    "from typing import List, Tuple"
   ]
  },
  {
   "cell_type": "code",
   "execution_count": 42,
   "id": "b1f42807-f7fe-4083-be2f-c4f75a1e97b6",
   "metadata": {},
   "outputs": [],
   "source": [
    "with open('../data/goodreads_library_export.csv') as stream:\n",
    "    book_entry = list(csv.DictReader(stream))"
   ]
  },
  {
   "cell_type": "code",
   "execution_count": 67,
   "id": "2def3f4a-f929-4b75-8e1e-18302ce4aa18",
   "metadata": {},
   "outputs": [
    {
     "name": "stdout",
     "output_type": "stream",
     "text": [
      "{\n",
      "  \"Book Id\": \"27385980\",\n",
      "  \"Title\": \"Invisible Cities\",\n",
      "  \"Author\": \"Italo Calvino\",\n",
      "  \"Author l-f\": \"Calvino, Italo\",\n",
      "  \"Additional Authors\": \"William Weaver\",\n",
      "  \"ISBN\": \"=\\\"9780156453\\\"\",\n",
      "  \"ISBN13\": \"=\\\"\\\"\",\n",
      "  \"My Rating\": \"0\",\n",
      "  \"Average Rating\": \"4.13\",\n",
      "  \"Publisher\": \"Mariner\",\n",
      "  \"Binding\": \"Paperback\",\n",
      "  \"Number of Pages\": \"165\",\n",
      "  \"Year Published\": \"\",\n",
      "  \"Original Publication Year\": \"1972\",\n",
      "  \"Date Read\": \"\",\n",
      "  \"Date Added\": \"2020/03/01\",\n",
      "  \"Bookshelves\": \"to-read, rec-to-me, ab-current-tbr\",\n",
      "  \"Bookshelves with positions\": \"to-read (#238), rec-to-me (#20), ab-current-tbr (#226)\",\n",
      "  \"Exclusive Shelf\": \"to-read\",\n",
      "  \"My Review\": \"\",\n",
      "  \"Spoiler\": \"\",\n",
      "  \"Private Notes\": \"\",\n",
      "  \"Read Count\": \"0\",\n",
      "  \"Recommended For\": \"\",\n",
      "  \"Recommended By\": \"\",\n",
      "  \"Owned Copies\": \"0\",\n",
      "  \"Original Purchase Date\": \"\",\n",
      "  \"Original Purchase Location\": \"\",\n",
      "  \"Condition\": \"\",\n",
      "  \"Condition Description\": \"\",\n",
      "  \"BCID\": \"\"\n",
      "}\n"
     ]
    }
   ],
   "source": [
    "print(json.dumps(book_entry[503], indent=2))"
   ]
  },
  {
   "cell_type": "code",
   "execution_count": 44,
   "id": "d6d27d80-5fbf-4c32-960e-572e0b074f95",
   "metadata": {},
   "outputs": [],
   "source": [
    "def format_isbn(isbn: str) -> str:\n",
    "    \"\"\"\n",
    "    Format ISBN data.\n",
    "    \n",
    "    :param isbn: Unformatted ISBN from Goodreads CSV.\n",
    "    :return: Formatted ISBN.\n",
    "    \"\"\"\n",
    "    isbn = isbn.strip('\"').strip('=').strip('\"')\n",
    "    if isbn == '':\n",
    "        isbn = None\n",
    "    return isbn"
   ]
  },
  {
   "cell_type": "code",
   "execution_count": 45,
   "id": "536c7ce4-2107-42d1-9e4d-6eabcac9e002",
   "metadata": {},
   "outputs": [],
   "source": [
    "def split_author(author: str) -> Tuple[str, str]:\n",
    "    \"\"\"\n",
    "    Split author name into first and last name if applicable.\n",
    "    \n",
    "    :param author: Unformatted author's full-name from Goodreads CSV.\n",
    "    :return: Formatted author name as first_name, last_name.\n",
    "    \"\"\"\n",
    "    author = author.split(', ')\n",
    "    \n",
    "    first_name = None\n",
    "    last_name = None\n",
    "        \n",
    "    if len(author) == 1:\n",
    "        first_name = author[0]    \n",
    "    elif len(author) > 1:\n",
    "        last_name, first_name = author\n",
    "    \n",
    "    return first_name, last_name"
   ]
  },
  {
   "cell_type": "code",
   "execution_count": 61,
   "id": "aa5af29d-2451-4efe-9e26-a069d12bdae1",
   "metadata": {},
   "outputs": [],
   "source": [
    "def format_additional_authors(additional_authors: str) -> List[str]:\n",
    "    \"\"\"\n",
    "    Format any additional authors if they exist.\n",
    "    \n",
    "    :param additional_authors: Any other authors that worked on the publication.\n",
    "    :return: Additional Authors in correct formatting.\n",
    "    \"\"\"\n",
    "    if len(additional_authors) == 0:\n",
    "        return None\n",
    "    \n",
    "    return additional_authors.split(', ')"
   ]
  },
  {
   "cell_type": "code",
   "execution_count": 74,
   "id": "b7b8fe5f-dee8-49f8-b3f6-9c92e66e214e",
   "metadata": {},
   "outputs": [],
   "source": [
    "def format_integer(value: str) -> int:\n",
    "    \"\"\"\n",
    "    Format integer values in dataset.\n",
    "    \n",
    "    :param value: A string representation of an integer datum.\n",
    "    :return: Integers in correct formatting.\n",
    "    \"\"\"\n",
    "    return None if value == '' else int(value)"
   ]
  },
  {
   "cell_type": "code",
   "execution_count": 75,
   "id": "58d0cdd6-6b0b-4ef6-81d7-5ab0c4a45d2c",
   "metadata": {},
   "outputs": [],
   "source": [
    "def format_user_rating(rating: str) -> int:\n",
    "    \"\"\"\n",
    "    Format user rating correctly.\n",
    "    \n",
    "    :param rating: A string representation of a rating.\n",
    "    :return: Correctly formatted user rating.\n",
    "    \"\"\"\n",
    "    rating = format_integer(rating)\n",
    "    return None if rating == 0 else rating"
   ]
  },
  {
   "cell_type": "code",
   "execution_count": 76,
   "id": "334477f9-62fb-4068-ae6a-c9514b1eb73a",
   "metadata": {},
   "outputs": [],
   "source": [
    "docs = []\n",
    "for book in book_entry:\n",
    "    first_name, last_name = split_author(book['Author l-f'])\n",
    "    doc = {\n",
    "        'author': book['Author'],\n",
    "        'authorAdditional': format_additional_authors(book['Additional Authors']),\n",
    "        'authorFirst': first_name,\n",
    "        'authorLast': last_name, \n",
    "        'bookId': book['Book Id'],\n",
    "        'isbn': format_isbn(book['ISBN']),\n",
    "        'isbn13': format_isbn(book['ISBN13']),\n",
    "        'title': book['Title'],\n",
    "        'ratingUser': format_user_rating(book['My Rating']),\n",
    "        'ratingAverage': float(book['Average Rating']),\n",
    "        'publisher': book['Publisher'],\n",
    "        'binding': book['Binding'],\n",
    "        'numberOfPages': format_integer(book['Number of Pages']),\n",
    "        'publishedYear': format_integer(book['Year Published']),\n",
    "        'publishedYearOriginal': format_integer(book['Original Publication Year']),\n",
    "        #dateRead\n",
    "        #dateAdded\n",
    "    }\n",
    "    docs += [doc]"
   ]
  },
  {
   "cell_type": "code",
   "execution_count": 79,
   "id": "37ed8022-f133-45c2-bd07-c1348728de15",
   "metadata": {},
   "outputs": [
    {
     "name": "stdout",
     "output_type": "stream",
     "text": [
      "{'author': 'John Steinbeck', 'authorAdditional': None, 'authorFirst': 'John', 'authorLast': 'Steinbeck', 'bookId': '890', 'isbn': '0142000671', 'isbn13': '9780142000670', 'title': 'Of Mice and Men', 'ratingUser': 5, 'ratingAverage': 3.88, 'publisher': 'Penguin Books', 'binding': 'Paperback', 'numberOfPages': 112, 'publishedYear': 2002, 'publishedYearOriginal': 1937}\n"
     ]
    }
   ],
   "source": [
    "print(docs[2382])"
   ]
  },
  {
   "cell_type": "code",
   "execution_count": null,
   "id": "6633311e-bb7a-480e-a4fd-bc0a7b4c8626",
   "metadata": {},
   "outputs": [],
   "source": []
  }
 ],
 "metadata": {
  "kernelspec": {
   "display_name": "proof",
   "language": "python",
   "name": "proof"
  },
  "language_info": {
   "codemirror_mode": {
    "name": "ipython",
    "version": 3
   },
   "file_extension": ".py",
   "mimetype": "text/x-python",
   "name": "python",
   "nbconvert_exporter": "python",
   "pygments_lexer": "ipython3",
   "version": "3.10.4"
  }
 },
 "nbformat": 4,
 "nbformat_minor": 5
}
